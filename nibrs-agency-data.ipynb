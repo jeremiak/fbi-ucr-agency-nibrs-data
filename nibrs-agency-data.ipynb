{
 "cells": [
  {
   "cell_type": "code",
   "execution_count": 2,
   "metadata": {
    "collapsed": true
   },
   "outputs": [],
   "source": [
    "import pandas as pd"
   ]
  },
  {
   "cell_type": "code",
   "execution_count": 4,
   "metadata": {
    "collapsed": false
   },
   "outputs": [],
   "source": [
    "agencies = pd.read_csv('./41-2014/agency.csv').drop_duplicates()\n",
    "incidents = pd.read_csv('./41-2014/incident.csv').drop_duplicates()\n",
    "offenders = pd.read_csv('./41-2014/offender.csv', low_memory=False).drop_duplicates()\n",
    "offenses = pd.read_csv('./41-2014/offense.csv', low_memory=False).drop_duplicates()\n",
    "victims = pd.read_csv('./41-2014/victim.csv', low_memory=False).drop_duplicates()"
   ]
  },
  {
   "cell_type": "code",
   "execution_count": 5,
   "metadata": {
    "collapsed": false
   },
   "outputs": [],
   "source": [
    "incidents = incidents.drop('ori', axis=1)\n",
    "\n",
    "offenders = offenders.drop('location_name', axis=1)\n",
    "offenders = offenders.drop('ori', axis=1)\n",
    "offenders.columns = ['incident_id', 'offender_race_code', 'offender_sex_code', 'offender_age_num']\n",
    "\n",
    "victims = victims.drop('location_name', axis=1)\n",
    "victims = victims.drop('ori', axis=1)\n",
    "victims.columns = ['incident_id', 'victim_race_code', 'victim_sex_code', 'victim_age_num']"
   ]
  },
  {
   "cell_type": "code",
   "execution_count": 6,
   "metadata": {
    "collapsed": false
   },
   "outputs": [],
   "source": [
    "murders = offenses[offenses['offense_name'] == 'Murder and Nonnegligent Manslaughter']"
   ]
  },
  {
   "cell_type": "code",
   "execution_count": 7,
   "metadata": {
    "collapsed": false
   },
   "outputs": [],
   "source": [
    "memphis_murders = murders[murders['ori'] == 'TNMPD0000']"
   ]
  },
  {
   "cell_type": "code",
   "execution_count": 8,
   "metadata": {
    "collapsed": false
   },
   "outputs": [],
   "source": [
    "memphis_murders = pd.merge(memphis_murders, incidents, on='incident_id', how='inner')\n",
    "memphis_murders = pd.merge(memphis_murders, offenders, on='incident_id', how='inner')\n",
    "memphis_murders = pd.merge(memphis_murders, victims, on='incident_id', how='inner')"
   ]
  },
  {
   "cell_type": "code",
   "execution_count": 9,
   "metadata": {
    "collapsed": true
   },
   "outputs": [],
   "source": [
    "memphis_murders.to_csv('./TNMPD0000-memphis-homicides-2014.csv')"
   ]
  },
  {
   "cell_type": "code",
   "execution_count": null,
   "metadata": {
    "collapsed": true
   },
   "outputs": [],
   "source": []
  }
 ],
 "metadata": {
  "kernelspec": {
   "display_name": "Python 3",
   "language": "python",
   "name": "python3"
  },
  "language_info": {
   "codemirror_mode": {
    "name": "ipython",
    "version": 3
   },
   "file_extension": ".py",
   "mimetype": "text/x-python",
   "name": "python",
   "nbconvert_exporter": "python",
   "pygments_lexer": "ipython3",
   "version": "3.4.3"
  }
 },
 "nbformat": 4,
 "nbformat_minor": 1
}
